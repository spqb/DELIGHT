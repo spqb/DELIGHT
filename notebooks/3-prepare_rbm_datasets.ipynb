{
 "cells": [
  {
   "cell_type": "code",
   "execution_count": 1,
   "id": "d87a8249",
   "metadata": {},
   "outputs": [],
   "source": [
    "import numpy as np\n",
    "import pandas as pd\n",
    "import os"
   ]
  },
  {
   "cell_type": "code",
   "execution_count": 2,
   "id": "9a09126b",
   "metadata": {},
   "outputs": [],
   "source": [
    "num_training_samples = 100\n",
    "t1 = 0.7\n",
    "dataset_name = \"PF00072\"\n",
    "plm_model = \"protbert\"\n",
    "\n",
    "output_dir = f\"../experiments/datasets/{dataset_name}/rbm\"\n",
    "input_dir = f\"../experiments/datasets/{dataset_name}/t1{t1}_t21.0_t30.7\"\n",
    "\n",
    "if not os.path.exists(output_dir):\n",
    "    os.makedirs(output_dir)"
   ]
  },
  {
   "cell_type": "code",
   "execution_count": 3,
   "id": "62d611f6",
   "metadata": {},
   "outputs": [],
   "source": [
    "df_train = pd.read_csv(os.path.join(input_dir, f\"train_{num_training_samples}.csv\"))\n",
    "df_test = pd.read_csv(os.path.join(input_dir, \"test.csv\"))\n",
    "predictions_msa_npz = np.load(os.path.join(input_dir, f\"test.msa_{num_training_samples}.npz\"),  allow_pickle=True)\n",
    "predictions_contrastive_npz = np.load(os.path.join(input_dir, f\"test.embedding_{plm_model}_contrastive_{num_training_samples}.npz\"), allow_pickle=True)\n",
    "predictions_foundation_npz = np.load(os.path.join(input_dir, f\"test.embedding_{plm_model}_foundation_{num_training_samples}.npz\"), allow_pickle=True)\n",
    "df_predictions_msa = pd.DataFrame.from_dict({\n",
    "    \"header\": predictions_msa_npz[\"headers\"].tolist(),\n",
    "    \"label\": predictions_msa_npz[\"labels\"].tolist(),\n",
    "})\n",
    "df_predictions_contrastive = pd.DataFrame.from_dict({\n",
    "    \"header\": predictions_contrastive_npz[\"headers\"].tolist(),\n",
    "    \"label\": predictions_contrastive_npz[\"labels\"].tolist(),\n",
    "})\n",
    "df_predictions_foundation = pd.DataFrame.from_dict({\n",
    "    \"header\": predictions_foundation_npz[\"headers\"].tolist(),\n",
    "    \"label\": predictions_foundation_npz[\"labels\"].tolist(),\n",
    "})"
   ]
  },
  {
   "cell_type": "code",
   "execution_count": 4,
   "id": "f014d7b2",
   "metadata": {},
   "outputs": [
    {
     "data": {
      "text/html": [
       "<div>\n",
       "<style scoped>\n",
       "    .dataframe tbody tr th:only-of-type {\n",
       "        vertical-align: middle;\n",
       "    }\n",
       "\n",
       "    .dataframe tbody tr th {\n",
       "        vertical-align: top;\n",
       "    }\n",
       "\n",
       "    .dataframe thead th {\n",
       "        text-align: right;\n",
       "    }\n",
       "</style>\n",
       "<table border=\"1\" class=\"dataframe\">\n",
       "  <thead>\n",
       "    <tr style=\"text-align: right;\">\n",
       "      <th></th>\n",
       "      <th>header</th>\n",
       "      <th>sequence</th>\n",
       "      <th>sequence_align</th>\n",
       "      <th>label_true</th>\n",
       "      <th>label_msa</th>\n",
       "      <th>label_foundation</th>\n",
       "      <th>label_contrastive</th>\n",
       "    </tr>\n",
       "  </thead>\n",
       "  <tbody>\n",
       "    <tr>\n",
       "      <th>0</th>\n",
       "      <td>A0A0J1GM56</td>\n",
       "      <td>VLVADDDPINRLLIKRQLTELGVTATLVEDGQQALAELEQRGEDYA...</td>\n",
       "      <td>VLVAEDNPVNMSVARRFLSRWGVDVEEAVNGKEAVEKFSPDRFHLL...</td>\n",
       "      <td>PF00512</td>\n",
       "      <td>PF00512</td>\n",
       "      <td>PF00512</td>\n",
       "      <td>PF00512</td>\n",
       "    </tr>\n",
       "    <tr>\n",
       "      <th>1</th>\n",
       "      <td>F5J317</td>\n",
       "      <td>VLLVEDNEELLTLIGNILSKHYHVLTASNGVEALDRVKDNDIDIVI...</td>\n",
       "      <td>VLLVDDERMILEGISAIVDSVDTLIGTARNGVEAYAFVCEHTPDII...</td>\n",
       "      <td>PF12833</td>\n",
       "      <td>PF12833</td>\n",
       "      <td>PF12833</td>\n",
       "      <td>PF12833</td>\n",
       "    </tr>\n",
       "    <tr>\n",
       "      <th>2</th>\n",
       "      <td>A0A972JJP9</td>\n",
       "      <td>VLIIDDDELDRMAIIRAMRHAEVEVNFAQATTAQQGLILANAQRFD...</td>\n",
       "      <td>VLVVDDAKAIRKLVSAILK-PVCRTVSFESAETALKVCHKIKPDLI...</td>\n",
       "      <td>PF00990</td>\n",
       "      <td>PF00990</td>\n",
       "      <td>PF00990</td>\n",
       "      <td>PF00990</td>\n",
       "    </tr>\n",
       "    <tr>\n",
       "      <th>3</th>\n",
       "      <td>A0A934E6V6</td>\n",
       "      <td>ILIADDELSMRELLEYMLTKEGYRVSCAENGRKAITMIESTPFDLL...</td>\n",
       "      <td>ILLVDDDADVVRAVGDYFERLGYEVAREDTGEGGMATFQRLRPDVV...</td>\n",
       "      <td>PF00158</td>\n",
       "      <td>PF00158</td>\n",
       "      <td>PF00158</td>\n",
       "      <td>PF00158</td>\n",
       "    </tr>\n",
       "    <tr>\n",
       "      <th>4</th>\n",
       "      <td>A0A946CN87</td>\n",
       "      <td>VLVVDDNEGDYVLVKSLLDYIPLVDYDVRWLPGGEGVSERIADIQP...</td>\n",
       "      <td>-LVVDDNPTNIELLLDLLDEHGFNVTSTSDSTRVVSLCETDCPDLI...</td>\n",
       "      <td>PF00990</td>\n",
       "      <td>PF00990</td>\n",
       "      <td>PF00990</td>\n",
       "      <td>PF00990</td>\n",
       "    </tr>\n",
       "  </tbody>\n",
       "</table>\n",
       "</div>"
      ],
      "text/plain": [
       "       header                                           sequence  \\\n",
       "0  A0A0J1GM56  VLVADDDPINRLLIKRQLTELGVTATLVEDGQQALAELEQRGEDYA...   \n",
       "1      F5J317  VLLVEDNEELLTLIGNILSKHYHVLTASNGVEALDRVKDNDIDIVI...   \n",
       "2  A0A972JJP9  VLIIDDDELDRMAIIRAMRHAEVEVNFAQATTAQQGLILANAQRFD...   \n",
       "3  A0A934E6V6  ILIADDELSMRELLEYMLTKEGYRVSCAENGRKAITMIESTPFDLL...   \n",
       "4  A0A946CN87  VLVVDDNEGDYVLVKSLLDYIPLVDYDVRWLPGGEGVSERIADIQP...   \n",
       "\n",
       "                                      sequence_align label_true label_msa  \\\n",
       "0  VLVAEDNPVNMSVARRFLSRWGVDVEEAVNGKEAVEKFSPDRFHLL...    PF00512   PF00512   \n",
       "1  VLLVDDERMILEGISAIVDSVDTLIGTARNGVEAYAFVCEHTPDII...    PF12833   PF12833   \n",
       "2  VLVVDDAKAIRKLVSAILK-PVCRTVSFESAETALKVCHKIKPDLI...    PF00990   PF00990   \n",
       "3  ILLVDDDADVVRAVGDYFERLGYEVAREDTGEGGMATFQRLRPDVV...    PF00158   PF00158   \n",
       "4  -LVVDDNPTNIELLLDLLDEHGFNVTSTSDSTRVVSLCETDCPDLI...    PF00990   PF00990   \n",
       "\n",
       "  label_foundation label_contrastive  \n",
       "0          PF00512           PF00512  \n",
       "1          PF12833           PF12833  \n",
       "2          PF00990           PF00990  \n",
       "3          PF00158           PF00158  \n",
       "4          PF00990           PF00990  "
      ]
     },
     "execution_count": 4,
     "metadata": {},
     "output_type": "execute_result"
    }
   ],
   "source": [
    "# ground truth\n",
    "df_rbm = pd.concat([df_train, df_test], ignore_index=True)\n",
    "df_predictions_msa = pd.concat([df_predictions_msa, df_train[[\"header\", \"label\"]]], ignore_index=True)\n",
    "df_predictions_msa.rename(columns={\"label\": \"label_msa\"}, inplace=True)\n",
    "df_predictions_contrastive = pd.concat([df_predictions_contrastive, df_train[[\"header\", \"label\"]]], ignore_index=True)\n",
    "df_predictions_contrastive.rename(columns={\"label\": \"label_contrastive\"}, inplace=True)\n",
    "df_predictions_foundation = pd.concat([df_predictions_foundation, df_train[[\"header\", \"label\"]]], ignore_index=True)\n",
    "df_predictions_foundation.rename(columns={\"label\": \"label_foundation\"}, inplace=True)\n",
    "df_rbm = df_rbm.merge(df_predictions_msa, on=\"header\", how=\"left\")\n",
    "df_rbm = df_rbm.merge(df_predictions_contrastive, on=\"header\", how=\"left\")\n",
    "df_rbm = df_rbm.merge(df_predictions_foundation, on=\"header\", how=\"left\")\n",
    "df_rbm.rename(columns={\"label\": \"label_true\"}, inplace=True)\n",
    "# sort columns\n",
    "df_rbm = df_rbm[[\"header\", \"sequence\", \"sequence_align\", \"label_true\", \"label_msa\", \"label_foundation\", \"label_contrastive\"]]\n",
    "df_rbm.head()"
   ]
  },
  {
   "cell_type": "code",
   "execution_count": 5,
   "id": "3c19f2bc",
   "metadata": {},
   "outputs": [
    {
     "name": "stdout",
     "output_type": "stream",
     "text": [
      "NaN counts in df_rbm:\n",
      "header               0\n",
      "sequence             0\n",
      "sequence_align       0\n",
      "label_true           0\n",
      "label_msa            0\n",
      "label_foundation     0\n",
      "label_contrastive    0\n",
      "dtype: int64\n"
     ]
    }
   ],
   "source": [
    "# count nan in df_rbm\n",
    "nan_counts = df_rbm.isna().sum()\n",
    "print(\"NaN counts in df_rbm:\")\n",
    "print(nan_counts)"
   ]
  },
  {
   "cell_type": "markdown",
   "id": "4020a0db",
   "metadata": {},
   "source": [
    "## Prepare column having only the training labels"
   ]
  },
  {
   "cell_type": "code",
   "execution_count": 6,
   "id": "9692f332",
   "metadata": {},
   "outputs": [],
   "source": [
    "header_to_all_label = {h: \"\" for h in df_rbm[\"header\"].tolist()}\n",
    "header_to_train_label = {h: l for h, l in zip(df_train[\"header\"].tolist(), df_train[\"label\"].tolist())}\n",
    "for h in df_train[\"header\"].tolist():\n",
    "    header_to_all_label[h] = header_to_train_label[h]\n",
    "# add column \"label_train\" to df\n",
    "df_rbm[\"label_train\"] = df_rbm[\"header\"].map(header_to_all_label)"
   ]
  },
  {
   "cell_type": "markdown",
   "id": "6077c63c",
   "metadata": {},
   "source": [
    "## Prepare column with high-probability data prediction"
   ]
  },
  {
   "cell_type": "code",
   "execution_count": 7,
   "id": "b32f6d2e",
   "metadata": {},
   "outputs": [],
   "source": [
    "threshold = 0.8\n",
    "\n",
    "predictions_msa_npz = np.load(os.path.join(input_dir, f\"test.msa_{num_training_samples}.npz\"),  allow_pickle=True)\n",
    "predictions_contrastive_npz = np.load(os.path.join(input_dir, f\"test.embedding_{plm_model}_contrastive_{num_training_samples}.npz\"), allow_pickle=True)\n",
    "predictions_foundation_npz = np.load(os.path.join(input_dir, f\"test.embedding_{plm_model}_foundation_{num_training_samples}.npz\"), allow_pickle=True)\n",
    "\n",
    "predictions_msa_mask = np.any(predictions_msa_npz[\"probs\"] >= threshold, axis=1)\n",
    "predictions_contrastive_mask = np.any(predictions_contrastive_npz[\"probs\"] >= threshold, axis=1)\n",
    "predictions_foundation_mask = np.any(predictions_foundation_npz[\"probs\"] >= threshold, axis=1)\n",
    "\n",
    "header_to_all_label_msa = {h: \"\" for h in df_rbm[\"header\"].tolist()}\n",
    "header_to_all_label_contrastive = {h: \"\" for h in df_rbm[\"header\"].tolist()}\n",
    "header_to_all_label_foundation = {h: \"\" for h in df_rbm[\"header\"].tolist()}\n",
    "\n",
    "header_to_msa_prediction = {h: l for h, l in zip(df_rbm[\"header\"].tolist(), df_rbm[\"label_msa\"].tolist())}\n",
    "header_to_contrastive_prediction = {h: l for h, l in zip(df_rbm[\"header\"].tolist(), df_rbm[\"label_contrastive\"].tolist())}\n",
    "header_to_foundation_prediction = {h: l for h, l in zip(df_rbm[\"header\"].tolist(), df_rbm[\"label_foundation\"].tolist())}\n",
    "\n",
    "headers_th_msa = predictions_msa_npz[\"headers\"][predictions_msa_mask]\n",
    "header_th_contrastive = predictions_contrastive_npz[\"headers\"][predictions_contrastive_mask]\n",
    "headers_th_foundation = predictions_foundation_npz[\"headers\"][predictions_foundation_mask]\n",
    "\n",
    "for h in headers_th_msa:\n",
    "    header_to_all_label_msa[h] = header_to_msa_prediction[h]\n",
    "for h in header_th_contrastive:\n",
    "    header_to_all_label_contrastive[h] = header_to_contrastive_prediction[h]\n",
    "for h in headers_th_foundation:\n",
    "    header_to_all_label_foundation[h] = header_to_foundation_prediction[h]\n",
    "\n",
    "df_rbm[\"label_msa_0.8\"] = df_rbm[\"header\"].map(header_to_all_label_msa)\n",
    "df_rbm[\"label_contrastive_0.8\"] = df_rbm[\"header\"].map(header_to_all_label_contrastive)\n",
    "df_rbm[\"label_foundation_0.8\"] = df_rbm[\"header\"].map(header_to_all_label_foundation)\n",
    "\n",
    "df_rbm.to_csv(os.path.join(output_dir, f\"predictions_t1{t1}.csv\"), index=False, na_rep=\"\")"
   ]
  },
  {
   "cell_type": "code",
   "execution_count": null,
   "id": "88c885f1",
   "metadata": {},
   "outputs": [],
   "source": []
  }
 ],
 "metadata": {
  "kernelspec": {
   "display_name": "rbms",
   "language": "python",
   "name": "python3"
  },
  "language_info": {
   "codemirror_mode": {
    "name": "ipython",
    "version": 3
   },
   "file_extension": ".py",
   "mimetype": "text/x-python",
   "name": "python",
   "nbconvert_exporter": "python",
   "pygments_lexer": "ipython3",
   "version": "3.11.11"
  }
 },
 "nbformat": 4,
 "nbformat_minor": 5
}
